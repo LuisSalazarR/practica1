{
 "cells": [
  {
   "cell_type": "code",
   "execution_count": 1,
   "metadata": {},
   "outputs": [],
   "source": [
    "from math import *"
   ]
  },
  {
   "cell_type": "markdown",
   "metadata": {},
   "source": [
    "<center> <h2>Anàlisi de Dades Experimentals</h2> </center>\n",
    "<center> <h3>Pràctica 1</h3> </center>\n",
    "<center> <h5>Luis Salazar</h5> </center>"
   ]
  },
  {
   "cell_type": "markdown",
   "metadata": {},
   "source": [
    "\n",
    "<center> <h3>Preguntes relatives a la mostra</h3> </center>"
   ]
  },
  {
   "cell_type": "markdown",
   "metadata": {},
   "source": [
    "**Vector de les dades:**"
   ]
  },
  {
   "cell_type": "markdown",
   "metadata": {},
   "source": [
    "$x_i: 59.92, 58.56, 58.98, 57.84, 52.48, 56.22, 59.48, 56.93, 59.26, 55.53, 58.04, 56.35, 56.14, 57.11, 61.10, 57.86, 57.97, 60.84, 56.90, 58.59, 55.98, 59.28, 54.67, 57.38, 59.87, 60.31, 57.32, 52.48, 60.96, 56.19, 59.01, 53.94, 56.56, 60.93, 58.22, 58.22, 59.39, 54.63, 57.57, 58.50, 59.88, 55.80, 57.99, 58.90, 65.30, 60.84, 52.52, 57.54, 57.90, 59.22$"
   ]
  },
  {
   "cell_type": "markdown",
   "metadata": {},
   "source": [
    "**1. Quina és la mitjana?**"
   ]
  },
  {
   "cell_type": "markdown",
   "metadata": {},
   "source": [
    "$$\\overline{x} = \\frac{1}{N}\\sum_{i=1}^{N} x_i$$\n",
    "\n",
    "$$\\overline{x} = 57.87$$"
   ]
  },
  {
   "cell_type": "code",
   "execution_count": 31,
   "metadata": {},
   "outputs": [],
   "source": [
    "lista = [59.92, 58.56, 58.98, 57.84, 52.48, 56.22, 59.48, 56.93, 59.26, 55.53, 58.04, 56.35, 56.14, 57.11, 61.10, 57.86, 57.97, 60.84, 56.90, 58.59, 55.98, 59.28, 54.67, 57.38, 59.87, 60.31, 57.32, 52.48, 60.96, 56.19, 59.01, 53.94, 56.56, 60.93, 58.22, 58.22, 59.39, 54.63, 57.57, 58.50, 59.88, 55.80, 57.99, 58.90, 65.30, 60.84, 52.52, 57.54, 57.90, 59.22]\n",
    "sumatorio = 0\n",
    "for e in lista:\n",
    "    sumatorio += e\n",
    "media = sumatorio/len(lista)\n",
    "#print(media)"
   ]
  },
  {
   "cell_type": "markdown",
   "metadata": {},
   "source": [
    "**2. Quina és la desviació estàndard?**"
   ]
  },
  {
   "cell_type": "markdown",
   "metadata": {},
   "source": [
    "$$\\sigma_x = \\sqrt{\\frac{1}{N-1}\\sum_{i=1}^{N}(x_i-\\overline{x})^2}$$\n",
    "\n",
    "$$\\sigma_x = 2.43$$"
   ]
  },
  {
   "cell_type": "code",
   "execution_count": 32,
   "metadata": {},
   "outputs": [],
   "source": [
    "discrepancias = []\n",
    "for e in lista:\n",
    "    discrepancias.append((e-media)**2)\n",
    "sumatorio2 = 0\n",
    "for e in discrepancias:\n",
    "    sumatorio2 += e\n",
    "desv_estandar = sqrt(sumatorio2/(len(lista)-1))\n",
    "#print(desv_estandar)"
   ]
  },
  {
   "cell_type": "markdown",
   "metadata": {},
   "source": [
    "**3. Quina és la desviació estàndard de la mitjana?**"
   ]
  },
  {
   "cell_type": "markdown",
   "metadata": {},
   "source": [
    "$$\\sigma_\\overline{x} = \\frac{\\sigma_x}{\\sqrt{N}}$$\n",
    "\n",
    "$$\\sigma_\\overline{x} = 0.34$$"
   ]
  },
  {
   "cell_type": "code",
   "execution_count": 33,
   "metadata": {},
   "outputs": [],
   "source": [
    "desv_media = desv_estandar/sqrt(len(lista))\n",
    "#print(desv_media)"
   ]
  },
  {
   "cell_type": "markdown",
   "metadata": {},
   "source": [
    "<center>_A continuació, les probabilitats estan calculades amb una distribució normal de $\\mu = 57.87$ i $\\sigma_{x} = 2.43$_"
   ]
  },
  {
   "cell_type": "markdown",
   "metadata": {},
   "source": [
    "**4. Quina és la probabilitat d'obtenir un valor igual o menor a 53?**"
   ]
  },
  {
   "cell_type": "markdown",
   "metadata": {},
   "source": [
    "$$P(x\\leq53) = 0.0228$$"
   ]
  },
  {
   "cell_type": "markdown",
   "metadata": {},
   "source": [
    "**5. Quina és la probabilitat d'obtenir un valor igual o major a 55?**"
   ]
  },
  {
   "cell_type": "markdown",
   "metadata": {},
   "source": [
    "$$P(x\\geq55) = 0.8810$$"
   ]
  },
  {
   "cell_type": "markdown",
   "metadata": {},
   "source": [
    "**6. Quina és la probabilitat d'obtenir un valor igual o inferior a 59?**"
   ]
  },
  {
   "cell_type": "markdown",
   "metadata": {},
   "source": [
    "$$P(x\\leq59) = 0.6808$$"
   ]
  },
  {
   "cell_type": "markdown",
   "metadata": {},
   "source": [
    "**7. Quina és la probabilitat d'obtenir un valor igual o major a 60?**"
   ]
  },
  {
   "cell_type": "markdown",
   "metadata": {},
   "source": [
    "$$P(x\\geq60) = 0.1894$$"
   ]
  },
  {
   "cell_type": "markdown",
   "metadata": {},
   "source": [
    "**8. Quina és la probabilitat d'obtenir un valor entre 54 i 58?**"
   ]
  },
  {
   "cell_type": "markdown",
   "metadata": {},
   "source": [
    "$$P(54\\leq x\\leq58) = 0.464$$"
   ]
  },
  {
   "cell_type": "markdown",
   "metadata": {},
   "source": [
    "**Vector de les 6 primeres dades:**"
   ]
  },
  {
   "cell_type": "markdown",
   "metadata": {},
   "source": [
    "$x_i: 59.92, 58.56, 58.98, 57.84, 52.48, 56.22$"
   ]
  },
  {
   "cell_type": "markdown",
   "metadata": {},
   "source": [
    "**9. Quina és ara la mitjana?**"
   ]
  },
  {
   "cell_type": "markdown",
   "metadata": {},
   "source": [
    "$$\\overline{x} = \\frac{1}{N}\\sum_{i=1}^{N} x_i$$\n",
    "\n",
    "$$\\overline{x} = 57.33$$"
   ]
  },
  {
   "cell_type": "code",
   "execution_count": 34,
   "metadata": {},
   "outputs": [],
   "source": [
    "lista2 = [59.92, 58.56, 58.98, 57.84, 52.48, 56.22]\n",
    "sumatorio3 = 0\n",
    "for e in lista2:\n",
    "    sumatorio3 += e\n",
    "media2 = sumatorio3/len(lista2)\n",
    "#print(media2)"
   ]
  },
  {
   "cell_type": "markdown",
   "metadata": {},
   "source": [
    "**10. Quina és la desviació estàndard?**"
   ]
  },
  {
   "cell_type": "markdown",
   "metadata": {},
   "source": [
    "$$\\sigma_x = \\sqrt{\\frac{1}{N-1}\\sum_{i=1}^{N}(x_i-\\overline{x})^2}$$\n",
    "\n",
    "$$\\sigma_x = 2.68$$"
   ]
  },
  {
   "cell_type": "code",
   "execution_count": 35,
   "metadata": {},
   "outputs": [],
   "source": [
    "discrepancias2 = []\n",
    "for e in lista2:\n",
    "    discrepancias2.append((e-media2)**2)\n",
    "sumatorio4 = 0\n",
    "for e in discrepancias2:\n",
    "    sumatorio4 += e\n",
    "desv_estandar2 = sqrt(sumatorio4/(len(lista2)-1))\n",
    "#print(desv_estandar2)"
   ]
  },
  {
   "cell_type": "markdown",
   "metadata": {},
   "source": [
    "**11. Quin és el valor màxim de l’interval $[x_{min}, x_{max}]$ centrat a la mitjana que proporciona el 95% de confiança que una mesura addicional estarà inclosa en aquest interval?**"
   ]
  },
  {
   "cell_type": "markdown",
   "metadata": {},
   "source": [
    "$$[x_{min}, x_{max}] = [50.44, 64.22]$$"
   ]
  },
  {
   "cell_type": "markdown",
   "metadata": {},
   "source": [
    "**12. Quin és el valor màxim de l’interval $[x_{min}, x_{max}]$ centrat a la mitjana que proporciona el 99% de confiança que una mesura addicional estarà inclosa en aquest interval?**"
   ]
  },
  {
   "cell_type": "markdown",
   "metadata": {},
   "source": [
    "$$[x_{min}, x_{max}] = [46.53, 68.13]$$"
   ]
  },
  {
   "cell_type": "markdown",
   "metadata": {},
   "source": [
    "<center> <h3>Monedes</h3> </center>"
   ]
  },
  {
   "cell_type": "markdown",
   "metadata": {},
   "source": [
    "**13. Determineu la probabilitat de treure 15 cares en llençar 30 monedes.**"
   ]
  },
  {
   "cell_type": "markdown",
   "metadata": {},
   "source": [
    "<center>En aquest cas, com que la variable és discreta (només pot prendre el valor cara o creu), coneixem el nombre d'experiments realitzats $N$, i suposam que cara és èxit i creu és fracàs, utilitzam una distribució de probabilitat binomial on"
   ]
  },
  {
   "cell_type": "markdown",
   "metadata": {},
   "source": [
    "$$N = 30$$ $$p = \\frac{1}{2} = 0.5$$ $$k = 15$$"
   ]
  },
  {
   "cell_type": "markdown",
   "metadata": {},
   "source": [
    "$$B_{N,p}(k) = \\frac{N!}{k!·(N-k)!}·p^k·(1-p)^{N-k}$$"
   ]
  },
  {
   "cell_type": "markdown",
   "metadata": {},
   "source": [
    "$$B_{30,0.5}(15) = 0.1445$$"
   ]
  },
  {
   "cell_type": "markdown",
   "metadata": {},
   "source": [
    "**14. Determineu la probabilitat de treure 3 cares en llençar 30 monedes.**"
   ]
  },
  {
   "cell_type": "markdown",
   "metadata": {},
   "source": [
    "<center>El procediment és el mateix que abans però amb les dades següents"
   ]
  },
  {
   "cell_type": "markdown",
   "metadata": {},
   "source": [
    "$$N = 30$$ $$p = \\frac{1}{2} = 0.5$$ $$k = 3$$"
   ]
  },
  {
   "cell_type": "markdown",
   "metadata": {},
   "source": [
    "$$B_{30,0.5}(3) = 0.000003781 = 3.781·10^{-6}$$"
   ]
  },
  {
   "cell_type": "markdown",
   "metadata": {},
   "source": [
    "**15. Compareu els resultats amb els que dóna l’aproximació gaussiana a l’autèntica distribució.**"
   ]
  },
  {
   "cell_type": "markdown",
   "metadata": {},
   "source": [
    "<center>Per aproximar una funció binomial amb una funció gaussiana, empram els paràmetres $\\mu = N·p$ i $\\sigma = \\sqrt{N·p·(1-p)}$"
   ]
  },
  {
   "cell_type": "markdown",
   "metadata": {},
   "source": [
    "$$\\mu = 15$$ $$\\sigma = 2.74$$"
   ]
  },
  {
   "cell_type": "markdown",
   "metadata": {},
   "source": [
    "<center>Com la distribució binomial s'empra per variables discretes i la normal per variables contínues, hem d'aplicar una correcció de continuïtat. A la distribució normal, la probabilitat d'un punt és zero, per això hem de triar un àrea al voltant d'aquest punt. La probabilitat binomial de $k = 15$ serà la probabilitat normal de $P(14.5\\leq x\\leq15.5)$ i la de $k = 3$ és $P(2.5\\leq x\\leq3.5)$"
   ]
  },
  {
   "cell_type": "markdown",
   "metadata": {},
   "source": [
    "<center>Després de tipificar, trobam que la probabilitat de $k = 15$ és $P(14.5\\leq x\\leq15.5) = 0.1428$ i de $k = 3$ és $P(2.5\\leq x\\leq3.5) \\approx 0$"
   ]
  },
  {
   "cell_type": "markdown",
   "metadata": {},
   "source": [
    "<center>Observam que per valors propers a la mitjana, l'aproximació és encertada. No obstant, per valors llunyans com $k=3$, l'aproximació no és adequada."
   ]
  },
  {
   "cell_type": "markdown",
   "metadata": {},
   "source": [
    "<center> <h3>Possible contaminació radioactiva</h3> </center>"
   ]
  },
  {
   "cell_type": "markdown",
   "metadata": {},
   "source": [
    "Es sospita que un conducte d’una instalació radiactiva pot estar contaminat amb residus radiactius. Per fer una comprovació, es situa un detector de radiació al conducte i registra 7075 partícules radiactives en 120 minuts. Per a determinar la radiació de fons, es situa el detector allunyat del conducte sospitós i es registren 3015 partícules en 60 minuts."
   ]
  },
  {
   "cell_type": "markdown",
   "metadata": {},
   "source": [
    "**16. Quin és el valor final per a la tassa de comptes (en comptes per minut) referides exclusivament als possibles residus radioactius presents al conducte?**"
   ]
  },
  {
   "cell_type": "markdown",
   "metadata": {},
   "source": [
    "<center>Si tenim que el detector troba 7075 partícules en 120 minuts prop del conducte, la mitjana és $\\lambda \\approx 59\\frac{partícules}{minut}$"
   ]
  },
  {
   "cell_type": "markdown",
   "metadata": {},
   "source": [
    "<center>Si la radiació de fons ens diu que es troben 3015 partícules en 60 minuts lluny del conducte, la mitjana és $\\lambda \\approx 50\\frac{partícules}{minut}$"
   ]
  },
  {
   "cell_type": "markdown",
   "metadata": {},
   "source": [
    "<center>Per tant, si ens referim als possibles residus radiactius de forma exclusiva, hem de restar a la radiació mitjana del conducte la radiació de fons. Per això, el valor final per a la tassa de comptes referides exclusivament als possibles residus radiactius és de $\\lambda \\approx 9\\frac{partícules}{minut}$"
   ]
  },
  {
   "cell_type": "markdown",
   "metadata": {},
   "source": [
    "**17. Aquest resultat implica que existeix evidència de la presència de contaminació per residus radioactius al conducte? Raona la teva resposta.**"
   ]
  },
  {
   "cell_type": "markdown",
   "metadata": {},
   "source": [
    "<center>Calculam la probabilitat de trobar una partícula radiactiva que pertanyi a residus radiactius exclusivament amb una distribució de Poisson ($N$ és gran i desconegut i la probabilitat és suficientment petita) amb els següents paràmetres"
   ]
  },
  {
   "cell_type": "markdown",
   "metadata": {},
   "source": [
    "$$\\lambda \\approx 9$$ $$k = 1$$"
   ]
  },
  {
   "cell_type": "markdown",
   "metadata": {},
   "source": [
    "$$P_{\\lambda}(k) = e^{-\\lambda}·\\frac{\\lambda^k}{k!}$$"
   ]
  },
  {
   "cell_type": "markdown",
   "metadata": {},
   "source": [
    "$$P_9(1) \\approx 0.00111$$"
   ]
  },
  {
   "cell_type": "markdown",
   "metadata": {},
   "source": [
    "<center>Si la comparam amb la probabilitat de trobar una partícula que sigui de la radiació de fons, $P_{50}(1) \\approx 9.64·10^{-21}$, observam que hi ha més probabilitat que la partícula sigui d'un possible residu radiactiu. Per tant, podem afirmar segons aquests resultats que hi ha presència de contaminació."
   ]
  },
  {
   "cell_type": "markdown",
   "metadata": {},
   "source": [
    "<center> <h3>Examen</h3> </center>"
   ]
  },
  {
   "cell_type": "markdown",
   "metadata": {},
   "source": [
    "A una escola, 420 dels seus 600 estudiants superen un examen de matemàtiques realitzat a nivell estatal. La tassa d’èxit a nivell estatal per aquest examen és d'un 60%. Si els estudiants d’aquesta escola són representatius del conjunt de l’estat,"
   ]
  },
  {
   "cell_type": "markdown",
   "metadata": {},
   "source": [
    "**18. Quants esperariem que superessin l’exàmen?**"
   ]
  },
  {
   "cell_type": "markdown",
   "metadata": {},
   "source": [
    "<center>En aquest cas, podem resoldre les qüestions amb una distribució de probabilitat binomial perquè coneixem el nombre d'experiments $N = 600$, i la probabilitat d'èxit (aprobar l'examen) $p = \\frac{60}{100} = 0.6$. No obstant, com $N$ és relativament gran, podem aproximar les probabilitats amb una distribució normal, on $\\mu = N·p$ i $\\sigma = \\sqrt{N·p·(1-p})$"
   ]
  },
  {
   "cell_type": "markdown",
   "metadata": {},
   "source": [
    "<center>El valor esperat és la mitjana de la distribució, que en aquest cas és $\\mu = 360$"
   ]
  },
  {
   "cell_type": "markdown",
   "metadata": {},
   "source": [
    "**19. Quina és la probabilitat que 420 o més estudiants de l’escola superin l’exàmen?**"
   ]
  },
  {
   "cell_type": "markdown",
   "metadata": {},
   "source": [
    "<center>Com la distribució binomial s'empra per variables discretes i la normal per variables contínues, hem d'aplicar una correcció de continuïtat. A la distribució normal, la probabilitat d'un punt és zero, per això hem de triar un àrea al voltant d'aquest punt. La probabilitat binomial de $k = 420$ serà la probabilitat normal de $P(419.5\\leq x\\leq420.5)$ i la de $k \\geq 420$ és $P(x \\geq 419.5)$"
   ]
  },
  {
   "cell_type": "markdown",
   "metadata": {},
   "source": [
    "$$P(x\\geq419.5) \\approx 0$$"
   ]
  },
  {
   "cell_type": "markdown",
   "metadata": {},
   "source": [
    "**20. Poden els responsables de l’escola proclamar que els seus estudiants estan significativament ben preparats per a l’examen?**"
   ]
  },
  {
   "cell_type": "markdown",
   "metadata": {},
   "source": [
    "<center>Com hem observat, la probabilitat que 420 alumnes o més aprovin l'examen és pràcticament nul·la. No obstant, veim que 420 alumnes l'han superat, per la qual cosa podem dir que estan molt ben preparats."
   ]
  }
 ],
 "metadata": {
  "kernelspec": {
   "display_name": "Python 3",
   "language": "python",
   "name": "python3"
  },
  "language_info": {
   "codemirror_mode": {
    "name": "ipython",
    "version": 3
   },
   "file_extension": ".py",
   "mimetype": "text/x-python",
   "name": "python",
   "nbconvert_exporter": "python",
   "pygments_lexer": "ipython3",
   "version": "3.6.5"
  }
 },
 "nbformat": 4,
 "nbformat_minor": 2
}
